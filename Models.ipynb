{
 "cells": [
  {
   "cell_type": "code",
   "execution_count": 94,
   "metadata": {},
   "outputs": [],
   "source": [
    "import pandas as pd\n",
    "from pandas import DataFrame as df\n",
    "import numpy as np\n",
    "import os.path\n",
    "from sklearn.metrics import precision_score, recall_score,confusion_matrix, f1_score\n",
    "from sklearn import ensemble, metrics, model_selection, \n",
    "from sklearn.preprocessing import MinMaxScaler, StandardScaler\n",
    "\n",
    "clean_data_folder = \"C:\\\\Users\\\\nateb\\\\OneDrive\\\\Desktop\\\\Data Science Projects\\\\datasets\\\\NFL\\\\Clean\"\n",
    "#read in data:\n",
    "df = pd.DataFrame(pd.read_excel( \"C:\\\\Users\\\\nateb\\\\OneDrive\\\\Desktop\\\\Data Science Projects\\\\datasets\\\\NFL\\\\Clean\\\\Historical Game DF averages 1999-2019.xlsx\"))\n",
    "\n"
   ]
  },
  {
   "cell_type": "markdown",
   "metadata": {},
   "source": [
    "First - I need to remove some variables that have too many NaN values or contain information from the game I are trying to predict\n",
    "\n",
    "I also want to avoid having a model that will consistantly choose the favorite - so I am removing it for the time being\n",
    "\n",
    "In the end, I'll compare these different models to the strategy of just choosing the favorite everytime"
   ]
  },
  {
   "cell_type": "code",
   "execution_count": 115,
   "metadata": {},
   "outputs": [
    {
     "data": {
      "text/html": [
       "<div>\n",
       "<style scoped>\n",
       "    .dataframe tbody tr th:only-of-type {\n",
       "        vertical-align: middle;\n",
       "    }\n",
       "\n",
       "    .dataframe tbody tr th {\n",
       "        vertical-align: top;\n",
       "    }\n",
       "\n",
       "    .dataframe thead th {\n",
       "        text-align: right;\n",
       "    }\n",
       "</style>\n",
       "<table border=\"1\" class=\"dataframe\">\n",
       "  <thead>\n",
       "    <tr style=\"text-align: right;\">\n",
       "      <th></th>\n",
       "      <th>season</th>\n",
       "      <th>week</th>\n",
       "      <th>home_avg_first_down_yards</th>\n",
       "      <th>home_avg_second_down_yards</th>\n",
       "      <th>home_avg_4down_converted</th>\n",
       "      <th>home_avg_offensive_touchdown</th>\n",
       "      <th>home_avg_defensive_touchdown</th>\n",
       "      <th>home_avg_rush_touchdown</th>\n",
       "      <th>home_avg_pass_touchdown</th>\n",
       "      <th>home_avg_return_touchdown</th>\n",
       "      <th>...</th>\n",
       "      <th>away_total_ties</th>\n",
       "      <th>indoors</th>\n",
       "      <th>div_game</th>\n",
       "      <th>home_winner</th>\n",
       "      <th>home_spread</th>\n",
       "      <th>away_spread</th>\n",
       "      <th>home_days_rest</th>\n",
       "      <th>away_days_rest</th>\n",
       "      <th>base_predictions</th>\n",
       "      <th>correct_predictions</th>\n",
       "    </tr>\n",
       "  </thead>\n",
       "  <tbody>\n",
       "    <tr>\n",
       "      <th>0</th>\n",
       "      <td>1999</td>\n",
       "      <td>2</td>\n",
       "      <td>2.774194</td>\n",
       "      <td>4.884615</td>\n",
       "      <td>0.000000</td>\n",
       "      <td>3.000000</td>\n",
       "      <td>0.000000</td>\n",
       "      <td>1.000000</td>\n",
       "      <td>2.000000</td>\n",
       "      <td>0.000000</td>\n",
       "      <td>...</td>\n",
       "      <td>0</td>\n",
       "      <td>0</td>\n",
       "      <td>0</td>\n",
       "      <td>0</td>\n",
       "      <td>6.5</td>\n",
       "      <td>-6.5</td>\n",
       "      <td>7</td>\n",
       "      <td>7</td>\n",
       "      <td>0</td>\n",
       "      <td>1</td>\n",
       "    </tr>\n",
       "    <tr>\n",
       "      <th>1</th>\n",
       "      <td>1999</td>\n",
       "      <td>5</td>\n",
       "      <td>3.528796</td>\n",
       "      <td>4.417682</td>\n",
       "      <td>0.000000</td>\n",
       "      <td>0.750000</td>\n",
       "      <td>0.250000</td>\n",
       "      <td>0.250000</td>\n",
       "      <td>0.500000</td>\n",
       "      <td>0.000000</td>\n",
       "      <td>...</td>\n",
       "      <td>0</td>\n",
       "      <td>0</td>\n",
       "      <td>1</td>\n",
       "      <td>1</td>\n",
       "      <td>9.5</td>\n",
       "      <td>-9.5</td>\n",
       "      <td>7</td>\n",
       "      <td>7</td>\n",
       "      <td>0</td>\n",
       "      <td>0</td>\n",
       "    </tr>\n",
       "    <tr>\n",
       "      <th>2</th>\n",
       "      <td>1999</td>\n",
       "      <td>8</td>\n",
       "      <td>4.062543</td>\n",
       "      <td>4.426144</td>\n",
       "      <td>0.285714</td>\n",
       "      <td>0.857143</td>\n",
       "      <td>0.285714</td>\n",
       "      <td>0.142857</td>\n",
       "      <td>0.714286</td>\n",
       "      <td>0.000000</td>\n",
       "      <td>...</td>\n",
       "      <td>0</td>\n",
       "      <td>0</td>\n",
       "      <td>1</td>\n",
       "      <td>0</td>\n",
       "      <td>2.5</td>\n",
       "      <td>-2.5</td>\n",
       "      <td>7</td>\n",
       "      <td>7</td>\n",
       "      <td>0</td>\n",
       "      <td>1</td>\n",
       "    </tr>\n",
       "    <tr>\n",
       "      <th>3</th>\n",
       "      <td>1999</td>\n",
       "      <td>10</td>\n",
       "      <td>4.179679</td>\n",
       "      <td>4.615009</td>\n",
       "      <td>0.333333</td>\n",
       "      <td>1.000000</td>\n",
       "      <td>0.222222</td>\n",
       "      <td>0.333333</td>\n",
       "      <td>0.666667</td>\n",
       "      <td>0.111111</td>\n",
       "      <td>...</td>\n",
       "      <td>0</td>\n",
       "      <td>0</td>\n",
       "      <td>1</td>\n",
       "      <td>1</td>\n",
       "      <td>6.0</td>\n",
       "      <td>-6.0</td>\n",
       "      <td>7</td>\n",
       "      <td>7</td>\n",
       "      <td>0</td>\n",
       "      <td>0</td>\n",
       "    </tr>\n",
       "    <tr>\n",
       "      <th>4</th>\n",
       "      <td>1999</td>\n",
       "      <td>11</td>\n",
       "      <td>4.385849</td>\n",
       "      <td>4.513508</td>\n",
       "      <td>0.300000</td>\n",
       "      <td>1.200000</td>\n",
       "      <td>0.200000</td>\n",
       "      <td>0.500000</td>\n",
       "      <td>0.600000</td>\n",
       "      <td>0.200000</td>\n",
       "      <td>...</td>\n",
       "      <td>0</td>\n",
       "      <td>0</td>\n",
       "      <td>0</td>\n",
       "      <td>0</td>\n",
       "      <td>7.0</td>\n",
       "      <td>-7.0</td>\n",
       "      <td>7</td>\n",
       "      <td>7</td>\n",
       "      <td>0</td>\n",
       "      <td>1</td>\n",
       "    </tr>\n",
       "  </tbody>\n",
       "</table>\n",
       "<p>5 rows × 219 columns</p>\n",
       "</div>"
      ],
      "text/plain": [
       "   season  week  home_avg_first_down_yards  home_avg_second_down_yards  \\\n",
       "0    1999     2                   2.774194                    4.884615   \n",
       "1    1999     5                   3.528796                    4.417682   \n",
       "2    1999     8                   4.062543                    4.426144   \n",
       "3    1999    10                   4.179679                    4.615009   \n",
       "4    1999    11                   4.385849                    4.513508   \n",
       "\n",
       "   home_avg_4down_converted  home_avg_offensive_touchdown  \\\n",
       "0                  0.000000                      3.000000   \n",
       "1                  0.000000                      0.750000   \n",
       "2                  0.285714                      0.857143   \n",
       "3                  0.333333                      1.000000   \n",
       "4                  0.300000                      1.200000   \n",
       "\n",
       "   home_avg_defensive_touchdown  home_avg_rush_touchdown  \\\n",
       "0                      0.000000                 1.000000   \n",
       "1                      0.250000                 0.250000   \n",
       "2                      0.285714                 0.142857   \n",
       "3                      0.222222                 0.333333   \n",
       "4                      0.200000                 0.500000   \n",
       "\n",
       "   home_avg_pass_touchdown  home_avg_return_touchdown  ...  away_total_ties  \\\n",
       "0                 2.000000                   0.000000  ...                0   \n",
       "1                 0.500000                   0.000000  ...                0   \n",
       "2                 0.714286                   0.000000  ...                0   \n",
       "3                 0.666667                   0.111111  ...                0   \n",
       "4                 0.600000                   0.200000  ...                0   \n",
       "\n",
       "   indoors  div_game  home_winner  home_spread  away_spread  home_days_rest  \\\n",
       "0        0         0            0          6.5         -6.5               7   \n",
       "1        0         1            1          9.5         -9.5               7   \n",
       "2        0         1            0          2.5         -2.5               7   \n",
       "3        0         1            1          6.0         -6.0               7   \n",
       "4        0         0            0          7.0         -7.0               7   \n",
       "\n",
       "   away_days_rest  base_predictions  correct_predictions  \n",
       "0               7                 0                    1  \n",
       "1               7                 0                    0  \n",
       "2               7                 0                    1  \n",
       "3               7                 0                    0  \n",
       "4               7                 0                    1  \n",
       "\n",
       "[5 rows x 219 columns]"
      ]
     },
     "execution_count": 115,
     "metadata": {},
     "output_type": "execute_result"
    }
   ],
   "source": [
    "import matplotlib\n",
    "import matplotlib.pyplot as plt\n",
    "import seaborn as sns\n",
    "from sklearn import model_selection\n",
    "\n",
    "\n",
    "df2 = df.drop(\n",
    "    ['home_avg_median_air_yards',\n",
    "    'home_avg_yac',\n",
    "    'away_avg_median_air_yards',\n",
    "    'away_avg_yac',\n",
    "    'away_winner',\n",
    "    'home_score',\n",
    "    'away_score',\n",
    "    'weather_temp',\n",
    "    'weather_humidity',\n",
    "    'weather_wind',\n",
    "    'home_team',\n",
    "    'away_team',\n",
    "    'total',\n",
    "    'total_line',\n",
    "    'game_id',\n",
    "    'home_against_avg_median_air_yards',\n",
    "    'away_against_avg_median_air_yards',\n",
    "    'home_avg_win_gap',\n",
    "    'away_avg_win_gap',\n",
    "    'home_against_avg_win_gap',\n",
    "    'away_against_avg_win_gap'\n",
    "    ],axis=1)\n",
    "\n",
    "\n",
    "df2.head()"
   ]
  },
  {
   "cell_type": "code",
   "execution_count": 116,
   "metadata": {},
   "outputs": [
    {
     "data": {
      "text/plain": [
       "{'home_avg_field_goal_pct': 6,\n",
       " 'home_against_avg_field_goal_pct': 6,\n",
       " 'home_avg_td_redzone': 9,\n",
       " 'home_against_avg_td_redzone': 4,\n",
       " 'away_avg_field_goal_pct': 10,\n",
       " 'away_against_avg_field_goal_pct': 10,\n",
       " 'away_avg_td_redzone': 7,\n",
       " 'away_against_avg_td_redzone': 11}"
      ]
     },
     "execution_count": 116,
     "metadata": {},
     "output_type": "execute_result"
    }
   ],
   "source": [
    "#check NA\n",
    "fill_na_vars={}\n",
    "for x in df2.columns:\n",
    "    na = df2[x].isnull().sum()\n",
    "    if na > 0:\n",
    "        #print(x,na)\n",
    "        fill_na_vars[x] = na\n",
    "fill_na_vars"
   ]
  },
  {
   "cell_type": "code",
   "execution_count": null,
   "metadata": {},
   "outputs": [],
   "source": []
  },
  {
   "cell_type": "code",
   "execution_count": 117,
   "metadata": {},
   "outputs": [
    {
     "data": {
      "text/html": [
       "<div>\n",
       "<style scoped>\n",
       "    .dataframe tbody tr th:only-of-type {\n",
       "        vertical-align: middle;\n",
       "    }\n",
       "\n",
       "    .dataframe tbody tr th {\n",
       "        vertical-align: top;\n",
       "    }\n",
       "\n",
       "    .dataframe thead th {\n",
       "        text-align: right;\n",
       "    }\n",
       "</style>\n",
       "<table border=\"1\" class=\"dataframe\">\n",
       "  <thead>\n",
       "    <tr style=\"text-align: right;\">\n",
       "      <th></th>\n",
       "      <th>season</th>\n",
       "      <th>week</th>\n",
       "      <th>home_avg_first_down_yards</th>\n",
       "      <th>home_avg_second_down_yards</th>\n",
       "      <th>home_avg_4down_converted</th>\n",
       "      <th>home_avg_offensive_touchdown</th>\n",
       "      <th>home_avg_defensive_touchdown</th>\n",
       "      <th>home_avg_rush_touchdown</th>\n",
       "      <th>home_avg_pass_touchdown</th>\n",
       "      <th>home_avg_return_touchdown</th>\n",
       "      <th>...</th>\n",
       "      <th>away_total_ties</th>\n",
       "      <th>indoors</th>\n",
       "      <th>div_game</th>\n",
       "      <th>home_winner</th>\n",
       "      <th>home_spread</th>\n",
       "      <th>away_spread</th>\n",
       "      <th>home_days_rest</th>\n",
       "      <th>away_days_rest</th>\n",
       "      <th>base_predictions</th>\n",
       "      <th>correct_predictions</th>\n",
       "    </tr>\n",
       "  </thead>\n",
       "  <tbody>\n",
       "    <tr>\n",
       "      <th>265</th>\n",
       "      <td>2000</td>\n",
       "      <td>2</td>\n",
       "      <td>5.236364</td>\n",
       "      <td>6.750000</td>\n",
       "      <td>0.0</td>\n",
       "      <td>3.0</td>\n",
       "      <td>0.0</td>\n",
       "      <td>3.0</td>\n",
       "      <td>0.0</td>\n",
       "      <td>0.0</td>\n",
       "      <td>...</td>\n",
       "      <td>0</td>\n",
       "      <td>1</td>\n",
       "      <td>0</td>\n",
       "      <td>1</td>\n",
       "      <td>-3.0</td>\n",
       "      <td>3.0</td>\n",
       "      <td>7</td>\n",
       "      <td>7</td>\n",
       "      <td>1</td>\n",
       "      <td>1</td>\n",
       "    </tr>\n",
       "    <tr>\n",
       "      <th>1175</th>\n",
       "      <td>2003</td>\n",
       "      <td>2</td>\n",
       "      <td>3.890909</td>\n",
       "      <td>5.150000</td>\n",
       "      <td>0.0</td>\n",
       "      <td>0.0</td>\n",
       "      <td>0.0</td>\n",
       "      <td>0.0</td>\n",
       "      <td>0.0</td>\n",
       "      <td>0.0</td>\n",
       "      <td>...</td>\n",
       "      <td>0</td>\n",
       "      <td>1</td>\n",
       "      <td>1</td>\n",
       "      <td>1</td>\n",
       "      <td>-2.5</td>\n",
       "      <td>2.5</td>\n",
       "      <td>7</td>\n",
       "      <td>7</td>\n",
       "      <td>1</td>\n",
       "      <td>1</td>\n",
       "    </tr>\n",
       "    <tr>\n",
       "      <th>1370</th>\n",
       "      <td>2004</td>\n",
       "      <td>2</td>\n",
       "      <td>5.158730</td>\n",
       "      <td>6.318182</td>\n",
       "      <td>1.0</td>\n",
       "      <td>2.0</td>\n",
       "      <td>0.0</td>\n",
       "      <td>1.0</td>\n",
       "      <td>1.0</td>\n",
       "      <td>0.0</td>\n",
       "      <td>...</td>\n",
       "      <td>0</td>\n",
       "      <td>0</td>\n",
       "      <td>0</td>\n",
       "      <td>1</td>\n",
       "      <td>-4.5</td>\n",
       "      <td>4.5</td>\n",
       "      <td>7</td>\n",
       "      <td>7</td>\n",
       "      <td>1</td>\n",
       "      <td>1</td>\n",
       "    </tr>\n",
       "    <tr>\n",
       "      <th>1452</th>\n",
       "      <td>2004</td>\n",
       "      <td>2</td>\n",
       "      <td>6.454545</td>\n",
       "      <td>6.510638</td>\n",
       "      <td>1.0</td>\n",
       "      <td>2.0</td>\n",
       "      <td>0.0</td>\n",
       "      <td>2.0</td>\n",
       "      <td>0.0</td>\n",
       "      <td>0.0</td>\n",
       "      <td>...</td>\n",
       "      <td>0</td>\n",
       "      <td>0</td>\n",
       "      <td>1</td>\n",
       "      <td>1</td>\n",
       "      <td>3.0</td>\n",
       "      <td>-3.0</td>\n",
       "      <td>7</td>\n",
       "      <td>7</td>\n",
       "      <td>0</td>\n",
       "      <td>0</td>\n",
       "    </tr>\n",
       "    <tr>\n",
       "      <th>2091</th>\n",
       "      <td>2007</td>\n",
       "      <td>2</td>\n",
       "      <td>5.176471</td>\n",
       "      <td>6.073171</td>\n",
       "      <td>0.0</td>\n",
       "      <td>1.0</td>\n",
       "      <td>0.0</td>\n",
       "      <td>0.0</td>\n",
       "      <td>1.0</td>\n",
       "      <td>0.0</td>\n",
       "      <td>...</td>\n",
       "      <td>0</td>\n",
       "      <td>0</td>\n",
       "      <td>0</td>\n",
       "      <td>1</td>\n",
       "      <td>-10.0</td>\n",
       "      <td>10.0</td>\n",
       "      <td>7</td>\n",
       "      <td>7</td>\n",
       "      <td>1</td>\n",
       "      <td>1</td>\n",
       "    </tr>\n",
       "    <tr>\n",
       "      <th>2147</th>\n",
       "      <td>2007</td>\n",
       "      <td>2</td>\n",
       "      <td>7.714286</td>\n",
       "      <td>3.666667</td>\n",
       "      <td>0.0</td>\n",
       "      <td>4.0</td>\n",
       "      <td>0.0</td>\n",
       "      <td>1.0</td>\n",
       "      <td>3.0</td>\n",
       "      <td>0.0</td>\n",
       "      <td>...</td>\n",
       "      <td>0</td>\n",
       "      <td>1</td>\n",
       "      <td>1</td>\n",
       "      <td>1</td>\n",
       "      <td>-3.0</td>\n",
       "      <td>3.0</td>\n",
       "      <td>7</td>\n",
       "      <td>7</td>\n",
       "      <td>1</td>\n",
       "      <td>1</td>\n",
       "    </tr>\n",
       "    <tr>\n",
       "      <th>2434</th>\n",
       "      <td>2008</td>\n",
       "      <td>2</td>\n",
       "      <td>5.053571</td>\n",
       "      <td>7.416667</td>\n",
       "      <td>1.0</td>\n",
       "      <td>4.0</td>\n",
       "      <td>0.0</td>\n",
       "      <td>3.0</td>\n",
       "      <td>1.0</td>\n",
       "      <td>0.0</td>\n",
       "      <td>...</td>\n",
       "      <td>0</td>\n",
       "      <td>0</td>\n",
       "      <td>1</td>\n",
       "      <td>1</td>\n",
       "      <td>-6.5</td>\n",
       "      <td>6.5</td>\n",
       "      <td>8</td>\n",
       "      <td>8</td>\n",
       "      <td>1</td>\n",
       "      <td>1</td>\n",
       "    </tr>\n",
       "    <tr>\n",
       "      <th>2490</th>\n",
       "      <td>2009</td>\n",
       "      <td>2</td>\n",
       "      <td>5.480769</td>\n",
       "      <td>3.351351</td>\n",
       "      <td>0.0</td>\n",
       "      <td>2.0</td>\n",
       "      <td>0.0</td>\n",
       "      <td>1.0</td>\n",
       "      <td>1.0</td>\n",
       "      <td>0.0</td>\n",
       "      <td>...</td>\n",
       "      <td>0</td>\n",
       "      <td>0</td>\n",
       "      <td>0</td>\n",
       "      <td>0</td>\n",
       "      <td>-7.5</td>\n",
       "      <td>7.5</td>\n",
       "      <td>7</td>\n",
       "      <td>7</td>\n",
       "      <td>1</td>\n",
       "      <td>0</td>\n",
       "    </tr>\n",
       "    <tr>\n",
       "      <th>2903</th>\n",
       "      <td>2010</td>\n",
       "      <td>2</td>\n",
       "      <td>5.102041</td>\n",
       "      <td>4.547619</td>\n",
       "      <td>0.0</td>\n",
       "      <td>1.0</td>\n",
       "      <td>0.0</td>\n",
       "      <td>0.0</td>\n",
       "      <td>1.0</td>\n",
       "      <td>0.0</td>\n",
       "      <td>...</td>\n",
       "      <td>0</td>\n",
       "      <td>1</td>\n",
       "      <td>0</td>\n",
       "      <td>0</td>\n",
       "      <td>-5.5</td>\n",
       "      <td>5.5</td>\n",
       "      <td>10</td>\n",
       "      <td>7</td>\n",
       "      <td>1</td>\n",
       "      <td>0</td>\n",
       "    </tr>\n",
       "    <tr>\n",
       "      <th>2911</th>\n",
       "      <td>2010</td>\n",
       "      <td>2</td>\n",
       "      <td>4.098039</td>\n",
       "      <td>4.162162</td>\n",
       "      <td>2.0</td>\n",
       "      <td>0.0</td>\n",
       "      <td>0.0</td>\n",
       "      <td>0.0</td>\n",
       "      <td>0.0</td>\n",
       "      <td>1.0</td>\n",
       "      <td>...</td>\n",
       "      <td>0</td>\n",
       "      <td>0</td>\n",
       "      <td>0</td>\n",
       "      <td>0</td>\n",
       "      <td>4.5</td>\n",
       "      <td>-4.5</td>\n",
       "      <td>8</td>\n",
       "      <td>11</td>\n",
       "      <td>0</td>\n",
       "      <td>1</td>\n",
       "    </tr>\n",
       "    <tr>\n",
       "      <th>4441</th>\n",
       "      <td>2016</td>\n",
       "      <td>2</td>\n",
       "      <td>5.962963</td>\n",
       "      <td>3.809524</td>\n",
       "      <td>0.0</td>\n",
       "      <td>2.0</td>\n",
       "      <td>0.0</td>\n",
       "      <td>1.0</td>\n",
       "      <td>1.0</td>\n",
       "      <td>0.0</td>\n",
       "      <td>...</td>\n",
       "      <td>0</td>\n",
       "      <td>0</td>\n",
       "      <td>0</td>\n",
       "      <td>1</td>\n",
       "      <td>-12.0</td>\n",
       "      <td>12.0</td>\n",
       "      <td>10</td>\n",
       "      <td>6</td>\n",
       "      <td>1</td>\n",
       "      <td>1</td>\n",
       "    </tr>\n",
       "  </tbody>\n",
       "</table>\n",
       "<p>11 rows × 219 columns</p>\n",
       "</div>"
      ],
      "text/plain": [
       "      season  week  home_avg_first_down_yards  home_avg_second_down_yards  \\\n",
       "265     2000     2                   5.236364                    6.750000   \n",
       "1175    2003     2                   3.890909                    5.150000   \n",
       "1370    2004     2                   5.158730                    6.318182   \n",
       "1452    2004     2                   6.454545                    6.510638   \n",
       "2091    2007     2                   5.176471                    6.073171   \n",
       "2147    2007     2                   7.714286                    3.666667   \n",
       "2434    2008     2                   5.053571                    7.416667   \n",
       "2490    2009     2                   5.480769                    3.351351   \n",
       "2903    2010     2                   5.102041                    4.547619   \n",
       "2911    2010     2                   4.098039                    4.162162   \n",
       "4441    2016     2                   5.962963                    3.809524   \n",
       "\n",
       "      home_avg_4down_converted  home_avg_offensive_touchdown  \\\n",
       "265                        0.0                           3.0   \n",
       "1175                       0.0                           0.0   \n",
       "1370                       1.0                           2.0   \n",
       "1452                       1.0                           2.0   \n",
       "2091                       0.0                           1.0   \n",
       "2147                       0.0                           4.0   \n",
       "2434                       1.0                           4.0   \n",
       "2490                       0.0                           2.0   \n",
       "2903                       0.0                           1.0   \n",
       "2911                       2.0                           0.0   \n",
       "4441                       0.0                           2.0   \n",
       "\n",
       "      home_avg_defensive_touchdown  home_avg_rush_touchdown  \\\n",
       "265                            0.0                      3.0   \n",
       "1175                           0.0                      0.0   \n",
       "1370                           0.0                      1.0   \n",
       "1452                           0.0                      2.0   \n",
       "2091                           0.0                      0.0   \n",
       "2147                           0.0                      1.0   \n",
       "2434                           0.0                      3.0   \n",
       "2490                           0.0                      1.0   \n",
       "2903                           0.0                      0.0   \n",
       "2911                           0.0                      0.0   \n",
       "4441                           0.0                      1.0   \n",
       "\n",
       "      home_avg_pass_touchdown  home_avg_return_touchdown  ...  \\\n",
       "265                       0.0                        0.0  ...   \n",
       "1175                      0.0                        0.0  ...   \n",
       "1370                      1.0                        0.0  ...   \n",
       "1452                      0.0                        0.0  ...   \n",
       "2091                      1.0                        0.0  ...   \n",
       "2147                      3.0                        0.0  ...   \n",
       "2434                      1.0                        0.0  ...   \n",
       "2490                      1.0                        0.0  ...   \n",
       "2903                      1.0                        0.0  ...   \n",
       "2911                      0.0                        1.0  ...   \n",
       "4441                      1.0                        0.0  ...   \n",
       "\n",
       "      away_total_ties  indoors  div_game  home_winner  home_spread  \\\n",
       "265                 0        1         0            1         -3.0   \n",
       "1175                0        1         1            1         -2.5   \n",
       "1370                0        0         0            1         -4.5   \n",
       "1452                0        0         1            1          3.0   \n",
       "2091                0        0         0            1        -10.0   \n",
       "2147                0        1         1            1         -3.0   \n",
       "2434                0        0         1            1         -6.5   \n",
       "2490                0        0         0            0         -7.5   \n",
       "2903                0        1         0            0         -5.5   \n",
       "2911                0        0         0            0          4.5   \n",
       "4441                0        0         0            1        -12.0   \n",
       "\n",
       "      away_spread  home_days_rest  away_days_rest  base_predictions  \\\n",
       "265           3.0               7               7                 1   \n",
       "1175          2.5               7               7                 1   \n",
       "1370          4.5               7               7                 1   \n",
       "1452         -3.0               7               7                 0   \n",
       "2091         10.0               7               7                 1   \n",
       "2147          3.0               7               7                 1   \n",
       "2434          6.5               8               8                 1   \n",
       "2490          7.5               7               7                 1   \n",
       "2903          5.5              10               7                 1   \n",
       "2911         -4.5               8              11                 0   \n",
       "4441         12.0              10               6                 1   \n",
       "\n",
       "      correct_predictions  \n",
       "265                     1  \n",
       "1175                    1  \n",
       "1370                    1  \n",
       "1452                    0  \n",
       "2091                    1  \n",
       "2147                    1  \n",
       "2434                    1  \n",
       "2490                    0  \n",
       "2903                    0  \n",
       "2911                    1  \n",
       "4441                    1  \n",
       "\n",
       "[11 rows x 219 columns]"
      ]
     },
     "execution_count": 117,
     "metadata": {},
     "output_type": "execute_result"
    }
   ],
   "source": [
    "# Look at the observations where there is Na and evaluate how to best handle\n",
    "\n",
    "df_na = df2.loc[df2['away_against_avg_td_redzone'].isnull()]\n",
    "df_na"
   ]
  },
  {
   "cell_type": "markdown",
   "metadata": {},
   "source": [
    "These columns have null values in the first couple weeks of the data (data starts at week 2 of each season) because those events did not occur in the previous week.\n",
    "For example, if the home_avg_field_goal_pct variable is null, it is because the home team did not kick a field goal yet that season\n",
    "\n",
    "How I will fill the Na values:\n",
    "\n",
    "    - The field goal values will be filled with the average, because the lack of field goals could mean that they were never in field goal range, or that they managed to score a touchdown everytime they were in field goal range. Additionally, there is not too much variation in kickers.\n",
    "    \n",
    "    - Redzone TD variables are null because that team either did not reach the redzone or did not allow the other team to reach the redzone. Those values will be replaced with 0 to most accurately portray the offense/defenses ability.\n",
    "    \n",
    "    \n"
   ]
  },
  {
   "cell_type": "code",
   "execution_count": null,
   "metadata": {},
   "outputs": [],
   "source": []
  },
  {
   "cell_type": "code",
   "execution_count": 118,
   "metadata": {},
   "outputs": [],
   "source": [
    "df2['home_avg_field_goal_pct'].fillna(df2['home_avg_field_goal_pct'].mean(),inplace=True)\n",
    "df2['home_against_avg_field_goal_pct'].fillna(df2['home_against_avg_field_goal_pct'].mean(),inplace=True)\n",
    "df2['away_avg_field_goal_pct'].fillna(df2['away_avg_field_goal_pct'].mean(),inplace=True)\n",
    "df2['away_against_avg_field_goal_pct'].fillna(df2['away_against_avg_field_goal_pct'].mean(),inplace=True)\n",
    "\n",
    "df2['home_avg_td_redzone'].fillna(0,inplace=True)\n",
    "df2['home_against_avg_td_redzone'].fillna(0,inplace=True)\n",
    "df2['away_avg_td_redzone'].fillna(0,inplace=True)\n",
    "df2['away_against_avg_td_redzone'].fillna(0,inplace=True)\n"
   ]
  },
  {
   "cell_type": "code",
   "execution_count": 119,
   "metadata": {},
   "outputs": [],
   "source": [
    "#Check Again - Good! no more null values\n",
    "\n",
    "\n",
    "# fill_na_vars={}\n",
    "# for x in df2.columns:\n",
    "#     na = df2[x].isnull().sum()\n",
    "#     if na > 0:\n",
    "#         #print(x,na)\n",
    "#         fill_na_vars[x] = na\n",
    "# fill_na_vars"
   ]
  },
  {
   "cell_type": "markdown",
   "metadata": {},
   "source": [
    "# Lets check the base case of choosing the favorite every time"
   ]
  },
  {
   "cell_type": "code",
   "execution_count": 120,
   "metadata": {},
   "outputs": [
    {
     "name": "stdout",
     "output_type": "stream",
     "text": [
      "picking the favorite is correct 66.41% of the time\n"
     ]
    }
   ],
   "source": [
    "df['base_predictions'] = df.apply(lambda x: 1 if x['home_spread'] < 0 else 0, axis = 1)\n",
    "df['correct_predictions'] = df.apply(lambda x: 1 if x['home_winner'] == x['base_predictions'] else 0, axis = 1)\n",
    "\n",
    "df['correct_predictions'].mean()\n",
    "\n",
    "print('picking the favorite is correct {:.2f}% of the time'.format((df['correct_predictions'].mean())*100))\n",
    "\n"
   ]
  },
  {
   "cell_type": "code",
   "execution_count": null,
   "metadata": {},
   "outputs": [],
   "source": []
  },
  {
   "cell_type": "code",
   "execution_count": null,
   "metadata": {},
   "outputs": [],
   "source": []
  },
  {
   "cell_type": "code",
   "execution_count": 121,
   "metadata": {},
   "outputs": [],
   "source": [
    "corr_matrix = df2.corr()"
   ]
  },
  {
   "cell_type": "code",
   "execution_count": null,
   "metadata": {},
   "outputs": [],
   "source": []
  },
  {
   "cell_type": "code",
   "execution_count": 122,
   "metadata": {},
   "outputs": [],
   "source": [
    "winner_corr_matrix = corr_matrix['home_winner'].sort_values(ascending=True)\n",
    "\n",
    "\n",
    "winner_corr_limited = winner_corr_matrix.loc[abs(winner_corr_matrix) > .1]\n",
    "\n",
    "# winner_corr_limited"
   ]
  },
  {
   "cell_type": "code",
   "execution_count": null,
   "metadata": {},
   "outputs": [],
   "source": []
  },
  {
   "cell_type": "code",
   "execution_count": 123,
   "metadata": {},
   "outputs": [],
   "source": [
    "#use sklearn cross validation\n",
    "from sklearn.model_selection import cross_val_score,cross_val_predict, GridSearchCV\n",
    "\n",
    "#separate a validation set\n",
    "x_train = df2.loc[df2['season'] < 2018].drop(['home_winner'],axis=1)\n",
    "x_test = df2.loc[df2['season'] == 2018].drop(['home_winner'],axis=1)\n",
    "y_train = df2['home_winner'].loc[df2['season'] < 2018]\n",
    "y_test = df2['home_winner'].loc[df2['season'] == 2018]\n",
    "x_final_validation = df2.loc[df2['season'] == 2019].drop(['home_winner'],axis=1)\n",
    "y_final_validation = df2['home_winner'].loc[df2['season'] == 2019]\n",
    "\n",
    "standard_scaler = StandardScaler()\n",
    "scaler = standard_scaler.fit(x_train)\n",
    "x_train_stan = scaler.transform(x_train)\n",
    "x_test_stan = scaler.transform(x_test)\n",
    "x_final_valid_stan = scaler.transform(x_final_validation)\n"
   ]
  },
  {
   "cell_type": "code",
   "execution_count": 124,
   "metadata": {},
   "outputs": [
    {
     "data": {
      "text/plain": [
       "(4740, 218)"
      ]
     },
     "execution_count": 124,
     "metadata": {},
     "output_type": "execute_result"
    }
   ],
   "source": [
    "x_train.shape"
   ]
  },
  {
   "cell_type": "code",
   "execution_count": null,
   "metadata": {},
   "outputs": [],
   "source": [
    "\n"
   ]
  },
  {
   "cell_type": "code",
   "execution_count": null,
   "metadata": {},
   "outputs": [],
   "source": [
    "\n",
    "\n"
   ]
  },
  {
   "cell_type": "code",
   "execution_count": 125,
   "metadata": {},
   "outputs": [],
   "source": []
  },
  {
   "cell_type": "code",
   "execution_count": 126,
   "metadata": {},
   "outputs": [],
   "source": []
  },
  {
   "cell_type": "code",
   "execution_count": 127,
   "metadata": {},
   "outputs": [],
   "source": []
  },
  {
   "cell_type": "code",
   "execution_count": 128,
   "metadata": {},
   "outputs": [],
   "source": []
  },
  {
   "cell_type": "markdown",
   "metadata": {},
   "source": [
    "# Random Forest Classifier\n",
    "\n"
   ]
  },
  {
   "cell_type": "code",
   "execution_count": 129,
   "metadata": {},
   "outputs": [
    {
     "name": "stdout",
     "output_type": "stream",
     "text": [
      "Fitting 3 folds for each of 48 candidates, totalling 144 fits\n"
     ]
    },
    {
     "name": "stderr",
     "output_type": "stream",
     "text": [
      "[Parallel(n_jobs=-1)]: Using backend LokyBackend with 16 concurrent workers.\n",
      "[Parallel(n_jobs=-1)]: Done  18 tasks      | elapsed:    1.8s\n",
      "[Parallel(n_jobs=-1)]: Done 144 out of 144 | elapsed:   33.9s finished\n"
     ]
    },
    {
     "name": "stdout",
     "output_type": "stream",
     "text": [
      "Best score: 0.9510548523206751\n",
      "Best parameters set:\n",
      "\tcriterion:gini\n",
      "\tmax_depth:7\n",
      "\tn_estimators:500\n"
     ]
    }
   ],
   "source": [
    "from sklearn.ensemble import RandomForestClassifier\n",
    "\n",
    "forest_clf = RandomForestClassifier(random_state=42,n_jobs=-1)\n",
    "\n",
    "param_grid = {\n",
    "    \"n_estimators\": [100,200,250,300,400,500],\n",
    "    \"max_depth\":[1,2,5,7],\n",
    "    \"criterion\":[\"gini\",\"entropy\"]\n",
    "}\n",
    "\n",
    "model = GridSearchCV(\n",
    "    estimator=forest_clf,\n",
    "    param_grid=param_grid,\n",
    "    scoring=\"accuracy\",\n",
    "    verbose=1,\n",
    "    n_jobs=-1,\n",
    "    cv=3\n",
    ")\n",
    "model.fit(x_train,y_train)\n",
    "print(f\"Best score: {model.best_score_}\")\n",
    "print(\"Best parameters set:\")\n",
    "best_params = model.best_estimator_.get_params()\n",
    "for param_name in sorted(param_grid.keys()):\n",
    "    print(f\"\\t{param_name}:{best_params[param_name]}\")\n",
    "#cross_val_score(forest_clf,x_train,y_train,cv=3,scoring=\"accuracy\")\n",
    "# Best score: 0.9510548523206751\n",
    "# Best parameters set:\n",
    "# \tcriterion:gini\n",
    "# \tmax_depth:7\n",
    "# \tn_estimators:500\n"
   ]
  },
  {
   "cell_type": "code",
   "execution_count": 134,
   "metadata": {},
   "outputs": [
    {
     "data": {
      "text/plain": [
       "<function matplotlib.pyplot.show(close=None, block=None)>"
      ]
     },
     "execution_count": 134,
     "metadata": {},
     "output_type": "execute_result"
    },
    {
     "data": {
      "image/png": "[encoded data removed]",
      "text/plain": [
       "<Figure size 720x360 with 1 Axes>"
      ]
     },
     "metadata": {
      "needs_background": "light"
     },
     "output_type": "display_data"
    }
   ],
   "source": [
    "# Looks like the model could be overfitting - I'm going to make a chart for the max_depth variable to look in to this\n",
    "\n",
    "import matplotlib\n",
    "import matplotlib.pyplot as plt\n",
    "import seaborn as sns\n",
    "\n",
    "matplotlib.rc('xtick',labelsize=20)\n",
    "matplotlib.rc('ytick',labelsize=20)\n",
    "%matplotlib inline\n",
    "train_accuracies = [0.5]\n",
    "test_accuracies = [0.5]\n",
    "for depth in range(1,25):\n",
    "\n",
    "    tree_clf2 = RandomForestClassifier(criterion=\"gini\",max_depth=depth,n_estimators=500)\n",
    "    tree_clf2.fit(x_train,y_train)\n",
    "    train_predictions = tree_clf2.predict(x_train)\n",
    "    test_predictions = tree_clf2.predict(x_test)\n",
    "    train_accuracy = metrics.accuracy_score(y_train,train_predictions)\n",
    "    test_accuracy = metrics.accuracy_score(y_test,test_predictions)\n",
    "    \n",
    "    train_accuracies.append(train_accuracy)\n",
    "    test_accuracies.append(test_accuracy)\n",
    "    \n",
    "plt.figure(figsize=(10,5))\n",
    "sns.set_style(\"whitegrid\")\n",
    "plt.plot(train_accuracies,label=\"train accuracy\")\n",
    "plt.plot(test_accuracies,label=\"test accuracy\")\n",
    "plt.legend(loc=\"upper right\",prop={'size':15})\n",
    "plt.xticks(range(0,26,2))\n",
    "plt.xlabel(\"max_depth\",size=20)\n",
    "plt.ylabel(\"accuracy\",size=20)\n",
    "plt.show\n",
    "\n",
    "# 7 looks to be good"
   ]
  },
  {
   "cell_type": "code",
   "execution_count": null,
   "metadata": {},
   "outputs": [],
   "source": [
    "\n",
    "\n"
   ]
  },
  {
   "cell_type": "code",
   "execution_count": null,
   "metadata": {},
   "outputs": [],
   "source": [
    "final_R_forest_clf = RandomForestClassifier(random_state=42,n_jobs=-1,criterion=\"gini\",max_depth=7,n_estimators=500)"
   ]
  },
  {
   "cell_type": "code",
   "execution_count": null,
   "metadata": {},
   "outputs": [],
   "source": []
  },
  {
   "cell_type": "code",
   "execution_count": null,
   "metadata": {},
   "outputs": [],
   "source": []
  },
  {
   "cell_type": "code",
   "execution_count": null,
   "metadata": {},
   "outputs": [],
   "source": []
  },
  {
   "cell_type": "code",
   "execution_count": null,
   "metadata": {},
   "outputs": [],
   "source": []
  },
  {
   "cell_type": "markdown",
   "metadata": {},
   "source": [
    "# Logostic Regression"
   ]
  },
  {
   "cell_type": "code",
   "execution_count": 135,
   "metadata": {},
   "outputs": [
    {
     "data": {
      "text/plain": [
       "array([0.70886076, 0.75632911, 0.65632911])"
      ]
     },
     "execution_count": 135,
     "metadata": {},
     "output_type": "execute_result"
    }
   ],
   "source": [
    "from sklearn.linear_model import LogisticRegression\n",
    "\n",
    "log_reg = LogisticRegression(max_iter=10000,dual=False,solver=\"liblinear\")\n",
    "min_max_scaler = MinMaxScaler()\n",
    "standard_scaler = StandardScaler()\n",
    "log_reg.fit(x_train_stan,y_train)\n",
    "predictions = log_reg.predict(x_train_stan)\n",
    "# accuracy_score = log_reg.score(x_test,y_test)\n",
    "cross_val_score(log_reg,x_train_stan,y_train,cv=3,scoring=\"accuracy\")\n"
   ]
  },
  {
   "cell_type": "code",
   "execution_count": 136,
   "metadata": {},
   "outputs": [
    {
     "name": "stdout",
     "output_type": "stream",
     "text": [
      "Fitting 3 folds for each of 42 candidates, totalling 126 fits\n"
     ]
    },
    {
     "name": "stderr",
     "output_type": "stream",
     "text": [
      "[Parallel(n_jobs=-1)]: Using backend LokyBackend with 16 concurrent workers.\n",
      "[Parallel(n_jobs=-1)]: Done  18 tasks      | elapsed:   11.7s\n"
     ]
    },
    {
     "name": "stdout",
     "output_type": "stream",
     "text": [
      "Best score: 0.7970464135021098\n",
      "Best parameters set:\n",
      "\tC:0.01\n",
      "\tpenalty:l1\n"
     ]
    },
    {
     "name": "stderr",
     "output_type": "stream",
     "text": [
      "[Parallel(n_jobs=-1)]: Done 126 out of 126 | elapsed:  1.8min finished\n"
     ]
    }
   ],
   "source": [
    "c_lst = [x for x in range(1,20)]\n",
    "c_lst.append(.001)\n",
    "c_lst.append(.01)\n",
    "#print(c_lst)\n",
    "param_grid = {\n",
    "    \"penalty\": [\"l1\",\"l2\"],\n",
    "    \"C\":c_lst\n",
    "}\n",
    "\n",
    "model = GridSearchCV(\n",
    "    estimator=log_reg,\n",
    "    param_grid=param_grid,\n",
    "    scoring=\"accuracy\",\n",
    "    verbose=1,\n",
    "    n_jobs=-1,\n",
    "    cv=3\n",
    ")\n",
    "model.fit(x_train_stan,y_train)\n",
    "print(f\"Best score: {model.best_score_}\")\n",
    "print(\"Best parameters set:\")\n",
    "best_params = model.best_estimator_.get_params()\n",
    "for param_name in sorted(param_grid.keys()):\n",
    "    print(f\"\\t{param_name}:{best_params[param_name]}\")\n",
    "    \n",
    "# Best score: 0.7970464135021098\n",
    "# Best parameters set:\n",
    "# \tC:0.01\n",
    "# \tpenalty:l1"
   ]
  },
  {
   "cell_type": "code",
   "execution_count": null,
   "metadata": {},
   "outputs": [],
   "source": []
  },
  {
   "cell_type": "code",
   "execution_count": 139,
   "metadata": {},
   "outputs": [],
   "source": [
    "from sklearn.pipeline import make_pipeline\n",
    "final_log_reg = make_pipeline(StandardScaler(),LogisticRegression(max_iter=10000,dual=False,solver=\"liblinear\",C=.01,penalty=\"l1\"))"
   ]
  },
  {
   "cell_type": "code",
   "execution_count": null,
   "metadata": {},
   "outputs": [],
   "source": []
  },
  {
   "cell_type": "code",
   "execution_count": null,
   "metadata": {},
   "outputs": [],
   "source": []
  },
  {
   "cell_type": "code",
   "execution_count": null,
   "metadata": {},
   "outputs": [],
   "source": []
  },
  {
   "cell_type": "markdown",
   "metadata": {},
   "source": [
    "# Support Vector Machine"
   ]
  },
  {
   "cell_type": "code",
   "execution_count": 140,
   "metadata": {},
   "outputs": [
    {
     "data": {
      "text/plain": [
       "array([0.70443038, 0.76455696, 0.65822785])"
      ]
     },
     "execution_count": 140,
     "metadata": {},
     "output_type": "execute_result"
    }
   ],
   "source": [
    "from sklearn.svm import LinearSVC\n",
    "from sklearn.pipeline import Pipeline\n",
    "svm_clf = LinearSVC(dual=False)\n",
    "svm_clf.fit(x_train_stan,y_train)\n",
    "cross_val_score(svm_clf,x_train_stan,y_train,cv=3,scoring=\"accuracy\")"
   ]
  },
  {
   "cell_type": "code",
   "execution_count": 141,
   "metadata": {},
   "outputs": [],
   "source": [
    "\n",
    "# svc_clf = LinearSVC(dual=False,max_iter=100000)\n"
   ]
  },
  {
   "cell_type": "code",
   "execution_count": 143,
   "metadata": {},
   "outputs": [
    {
     "name": "stdout",
     "output_type": "stream",
     "text": [
      "Fitting 3 folds for each of 11 candidates, totalling 33 fits\n"
     ]
    },
    {
     "name": "stderr",
     "output_type": "stream",
     "text": [
      "[Parallel(n_jobs=-1)]: Using backend LokyBackend with 16 concurrent workers.\n"
     ]
    },
    {
     "name": "stdout",
     "output_type": "stream",
     "text": [
      "Best score: 0.8497890295358651\n",
      "Best parameters set:\n",
      "\tC:0.001\n",
      "\tloss:squared_hinge\n",
      "\tpenalty:l1\n"
     ]
    },
    {
     "name": "stderr",
     "output_type": "stream",
     "text": [
      "[Parallel(n_jobs=-1)]: Done  33 out of  33 | elapsed:    8.7s finished\n"
     ]
    }
   ],
   "source": [
    "#squared_hinge\n",
    "c_lst = [x for x in range(1,10)]\n",
    "c_lst.append(.001)\n",
    "c_lst.append(.01)\n",
    "param_grid = {\n",
    "    \"C\":c_lst,\n",
    "    \"penalty\": [\"l1\"],\n",
    "    \"loss\" : [\"squared_hinge\"],\n",
    "}\n",
    "\n",
    "model = GridSearchCV(\n",
    "    estimator=svm_clf,\n",
    "    param_grid=param_grid,\n",
    "    scoring=\"accuracy\",\n",
    "    verbose=1,\n",
    "    n_jobs=-1,\n",
    "    cv=3\n",
    ")\n",
    "model.fit(x_train_stan,y_train)\n",
    "print(f\"Best score: {model.best_score_}\")\n",
    "print(\"Best parameters set:\")\n",
    "best_params = model.best_estimator_.get_params()\n",
    "for param_name in sorted(param_grid.keys()):\n",
    "    print(f\"\\t{param_name}:{best_params[param_name]}\")\n",
    "    \n",
    "# Best score: 0.8497890295358651\n",
    "# Best parameters set:\n",
    "# \tC:0.001\n",
    "# \tloss:squared_hinge\n",
    "# \tpenalty:l1"
   ]
  },
  {
   "cell_type": "code",
   "execution_count": 144,
   "metadata": {},
   "outputs": [],
   "source": [
    "final_svm_clf= make_pipeline(StandardScaler(),LinearSVC(dual=False,max_iter=100000,C=.001,loss=\"squared_hinge\",penalty=\"l1\"))"
   ]
  },
  {
   "cell_type": "code",
   "execution_count": null,
   "metadata": {},
   "outputs": [],
   "source": []
  },
  {
   "cell_type": "markdown",
   "metadata": {},
   "source": [
    "# Decision Tree Classifier"
   ]
  },
  {
   "cell_type": "code",
   "execution_count": 145,
   "metadata": {},
   "outputs": [
    {
     "data": {
      "text/plain": [
       "array([1., 1., 1.])"
      ]
     },
     "execution_count": 145,
     "metadata": {},
     "output_type": "execute_result"
    }
   ],
   "source": [
    "from sklearn.tree import DecisionTreeClassifier\n",
    "tree_clf = DecisionTreeClassifier()\n",
    "tree_clf.fit(x_train_stan,y_train)\n",
    "cross_val_score(tree_clf,x_train_stan,y_train,cv=3,scoring=\"accuracy\")"
   ]
  },
  {
   "cell_type": "code",
   "execution_count": 147,
   "metadata": {},
   "outputs": [
    {
     "name": "stdout",
     "output_type": "stream",
     "text": [
      "Fitting 5 folds for each of 960 candidates, totalling 4800 fits\n"
     ]
    },
    {
     "name": "stderr",
     "output_type": "stream",
     "text": [
      "[Parallel(n_jobs=-1)]: Using backend LokyBackend with 16 concurrent workers.\n",
      "[Parallel(n_jobs=-1)]: Done  18 tasks      | elapsed:    0.0s\n",
      "[Parallel(n_jobs=-1)]: Done 352 tasks      | elapsed:    1.2s\n",
      "[Parallel(n_jobs=-1)]: Done 2320 tasks      | elapsed:    8.8s\n",
      "[Parallel(n_jobs=-1)]: Done 4254 tasks      | elapsed:   17.5s\n",
      "[Parallel(n_jobs=-1)]: Done 4800 out of 4800 | elapsed:   20.8s finished\n"
     ]
    },
    {
     "name": "stdout",
     "output_type": "stream",
     "text": [
      "Best score: 1.0\n",
      "Best parameters set:\n",
      "\tcriterion:gini\n",
      "\tmax_depth:5\n",
      "\tmax_features:None\n",
      "\tmin_samples_leaf:2\n",
      "\tmin_samples_split:2\n"
     ]
    }
   ],
   "source": [
    "#\"n_estimators\": [120,200,250,300,400,500],\n",
    "param_grid = {\n",
    "    \"max_depth\":[1,2,5,7,10],\n",
    "    \"criterion\":[\"gini\",\"entropy\"],\n",
    "    \"min_samples_split\":[1.0,2,5,10,15,100],\n",
    "    \"min_samples_leaf\": [1.0,2,5,10],\n",
    "    \"max_features\":[None,\"auto\",\"sqrt\",\"log2\"]\n",
    "}\n",
    "\n",
    "model = GridSearchCV(\n",
    "    estimator=tree_clf,\n",
    "    param_grid=param_grid,\n",
    "    scoring=\"accuracy\",\n",
    "    verbose=1,\n",
    "    n_jobs=-1,\n",
    "    cv=5\n",
    ")\n",
    "model.fit(x_train_stan,y_train)\n",
    "print(f\"Best score: {model.best_score_}\")\n",
    "print(\"Best parameters set:\")\n",
    "best_params = model.best_estimator_.get_params()\n",
    "for param_name in sorted(param_grid.keys()):\n",
    "    print(f\"\\t{param_name}:{best_params[param_name]}\")\n",
    "    \n"
   ]
  },
  {
   "cell_type": "code",
   "execution_count": 49,
   "metadata": {},
   "outputs": [],
   "source": [
    "final_tree_clf = DecisionTreeClassifier(\n",
    "    criterion='entropy',\n",
    "    max_depth=5,\n",
    "    max_features='auto',\n",
    "    min_samples_leaf = 5,\n",
    "    min_samples_split = 100)"
   ]
  },
  {
   "cell_type": "code",
   "execution_count": 148,
   "metadata": {},
   "outputs": [
    {
     "data": {
      "text/plain": [
       "<function matplotlib.pyplot.show(close=None, block=None)>"
      ]
     },
     "execution_count": 148,
     "metadata": {},
     "output_type": "execute_result"
    },
    {
     "data": {
      "image/png": "[encoded data removed]",
      "text/plain": [
       "<Figure size 720x360 with 1 Axes>"
      ]
     },
     "metadata": {
      "needs_background": "light"
     },
     "output_type": "display_data"
    }
   ],
   "source": [
    "#Looks like we may be overfitting ..  lets make a plot to show \n",
    "\n",
    "import matplotlib\n",
    "import matplotlib.pyplot as plt\n",
    "import seaborn as sns\n",
    "\n",
    "matplotlib.rc('xtick',labelsize=20)\n",
    "matplotlib.rc('ytick',labelsize=20)\n",
    "%matplotlib inline\n",
    "train_accuracies = [0.5]\n",
    "test_accuracies = [0.5]\n",
    "for depth in range(1,25):\n",
    "\n",
    "    tree_clf2 = DecisionTreeClassifier(max_features=None,min_samples_leaf = 2,min_samples_split=2,criterion=\"gini\",max_depth=depth)\n",
    "    tree_clf2.fit(x_train,y_train)\n",
    "    train_predictions = tree_clf2.predict(x_train)\n",
    "    test_predictions = tree_clf2.predict(x_test)\n",
    "    train_accuracy = metrics.accuracy_score(y_train,train_predictions)\n",
    "    test_accuracy = metrics.accuracy_score(y_test,test_predictions)\n",
    "    \n",
    "    train_accuracies.append(train_accuracy)\n",
    "    test_accuracies.append(test_accuracy)\n",
    "    \n",
    "plt.figure(figsize=(10,5))\n",
    "sns.set_style(\"whitegrid\")\n",
    "plt.plot(train_accuracies,label=\"train accuracy\")\n",
    "plt.plot(test_accuracies,label=\"test accuracy\")\n",
    "plt.legend(loc=\"upper right\",prop={'size':15})\n",
    "plt.xticks(range(0,26,2))\n",
    "plt.xlabel(\"max_depth\",size=20)\n",
    "plt.ylabel(\"accuracy\",size=20)\n",
    "plt.show\n",
    "\n",
    "# IT looks like the test accuracy peaks at a max depth of 2"
   ]
  },
  {
   "cell_type": "markdown",
   "metadata": {},
   "source": [
    "# Voting Classifier to bring all of these together"
   ]
  },
  {
   "cell_type": "markdown",
   "metadata": {},
   "source": [
    "So far, we have not found the right model that will beat just picking the favorite, but perhaps bringing all of this together will do the trick\n"
   ]
  },
  {
   "cell_type": "code",
   "execution_count": 151,
   "metadata": {},
   "outputs": [],
   "source": [
    "final_tree_clf = DecisionTreeClassifier(max_features=None,min_samples_leaf = 2,min_samples_split=2,criterion=\"gini\",max_depth=2)"
   ]
  },
  {
   "cell_type": "code",
   "execution_count": 154,
   "metadata": {},
   "outputs": [
    {
     "data": {
      "text/plain": [
       "0.8605577689243028"
      ]
     },
     "execution_count": 154,
     "metadata": {},
     "output_type": "execute_result"
    }
   ],
   "source": [
    "from sklearn.ensemble import VotingClassifier\n",
    "from sklearn.metrics import accuracy_score\n",
    "\n",
    "voting_clf = VotingClassifier(\n",
    "    estimators=[('Rtree',final_R_forest_clf),('svm',final_svm_clf),('tree',final_tree_clf),('logreg',final_log_reg)],\n",
    "    voting='hard'\n",
    ")\n",
    "voting_clf.fit(x_train,y_train)\n",
    "pred = voting_clf.predict(x_test)\n",
    "accuracy_score(y_test,pred)\n",
    "#cross_val_score(voting_clf,x_train,y_train,cv=3,scoring=\"accuracy\")\n"
   ]
  },
  {
   "cell_type": "markdown",
   "metadata": {},
   "source": [
    "86% ! Now we need to take a look at the predictions to see where it is most accurate and where it is least accurate like:\n",
    "    \n",
    "    - How does the model perfrom under small spreads when the teams are even?\n",
    "    - How often does the model predict an upset?\n",
    "    - Does the model perform better on later weeks when there is more data for that team? if so, how much?\n",
    "    - How does the model perform during the playoffs?"
   ]
  },
  {
   "cell_type": "code",
   "execution_count": 156,
   "metadata": {},
   "outputs": [
    {
     "data": {
      "text/plain": [
       "0.8685258964143426"
      ]
     },
     "execution_count": 156,
     "metadata": {},
     "output_type": "execute_result"
    }
   ],
   "source": [
    "pred = voting_clf.predict(x_final_validation)\n",
    "accuracy_score(y_final_validation,pred)"
   ]
  },
  {
   "cell_type": "markdown",
   "metadata": {},
   "source": [
    "Nice! The model did even better on the unseen data"
   ]
  },
  {
   "cell_type": "code",
   "execution_count": null,
   "metadata": {},
   "outputs": [],
   "source": []
  }
 ],
 "metadata": {
  "kernelspec": {
   "display_name": "Python 3",
   "language": "python",
   "name": "python3"
  },
  "language_info": {
   "codemirror_mode": {
    "name": "ipython",
    "version": 3
   },
   "file_extension": ".py",
   "mimetype": "text/x-python",
   "name": "python",
   "nbconvert_exporter": "python",
   "pygments_lexer": "ipython3",
   "version": "3.8.5"
  }
 },
 "nbformat": 4,
 "nbformat_minor": 4
}
